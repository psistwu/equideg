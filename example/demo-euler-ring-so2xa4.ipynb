{
 "cells": [
  {
   "cell_type": "code",
   "execution_count": 74,
   "id": "8f637d62",
   "metadata": {},
   "outputs": [
    {
     "data": {
      "text/plain": [
       "true"
      ]
     },
     "execution_count": 74,
     "metadata": {
      "text/plain": ""
     },
     "output_type": "execute_result"
    }
   ],
   "source": [
    "LoadPackage(\"equideg\");"
   ]
  },
  {
   "cell_type": "code",
   "execution_count": 87,
   "id": "194e5426",
   "metadata": {},
   "outputs": [
    {
     "data": {
      "text/plain": [
       "<group with 1 generators>"
      ]
     },
     "execution_count": 81,
     "metadata": {
      "text/plain": ""
     },
     "output_type": "execute_result"
    },
    {
     "data": {
      "text/plain": [
       "Alt( [ 1 .. 4 ] )"
      ]
     },
     "execution_count": 82,
     "metadata": {
      "text/plain": ""
     },
     "output_type": "execute_result"
    },
    {
     "data": {
      "text/plain": [
       "<group>"
      ]
     },
     "execution_count": 83,
     "metadata": {
      "text/plain": ""
     },
     "output_type": "execute_result"
    },
    {
     "data": {
      "text/plain": [
       "[ <object>, <object>, <object>, <object>, <object> ]"
      ]
     },
     "execution_count": 84,
     "metadata": {
      "text/plain": ""
     },
     "output_type": "execute_result"
    },
    {
     "data": {
      "text/plain": [
       "<object>"
      ]
     },
     "execution_count": 86,
     "metadata": {
      "text/plain": ""
     },
     "output_type": "execute_result"
    },
    {
     "data": {
      "text/plain": [
       "Erng( <group> )"
      ]
     },
     "execution_count": 87,
     "metadata": {
      "text/plain": ""
     },
     "output_type": "execute_result"
    }
   ],
   "source": [
    "so2 := SpecialOrthogonalGroupOverReal( 2 );\n",
    "a4 := AlternatingGroup( 4 );\n",
    "grp := DirectProduct( so2, a4 );\n",
    "ccss_a4 := ConjugacyClassesSubgroups( a4 );\n",
    "SetCCSsAbbrv( a4, [ \"Z1\", \"Z2\", \"Z3\", \"V4\", \"A4\" ] );\n",
    "ccss_grp := ConjugacyClassesSubgroups( grp );\n",
    "erng := EulerRing( grp );"
   ]
  },
  {
   "cell_type": "code",
   "execution_count": 89,
   "id": "8b4778da",
   "metadata": {},
   "outputs": [
    {
     "name": "stdout",
     "output_type": "stream",
     "text": [
      "There are\t5 zero mode CCSs of SO2 x A4.\n",
      "There are\t11 non-zero mode CCSs of SO2 x A4.\n"
     ]
    }
   ],
   "source": [
    "Print(\"There are\\t\", NumberOfZeroModeClasses( ccss_grp ), \" zero mode CCSs of SO2 x A4.\\n\" );\n",
    "Print(\"There are\\t\", NumberOfNonzeroModeClasses( ccss_grp ),  \" non-zero mode CCSs of SO2 x A4.\\n\" );"
   ]
  },
  {
   "cell_type": "code",
   "execution_count": 92,
   "id": "584f9148",
   "metadata": {},
   "outputs": [
    {
     "data": {
      "text/plain": [
       "Basis( Erng( <group> ) )"
      ]
     },
     "execution_count": 90,
     "metadata": {
      "text/plain": ""
     },
     "output_type": "execute_result"
    },
    {
     "data": {
      "text/plain": [
       "[ <1(0,5)> in Erng( <group> ), <1(0,4)> in Erng( <group> ), <1(0,3)> in Erng( <group> ), <1(0,2)> in Erng( <group> ), <1(0,1)> in Erng( <group> ) ]"
      ]
     },
     "execution_count": 91,
     "metadata": {
      "text/plain": ""
     },
     "output_type": "execute_result"
    },
    {
     "data": {
      "text/plain": [
       "[ <1(1,11)> in Erng( <group> ), <1(1,10)> in Erng( <group> ), <1(1,9)> in Erng( <group> ), <1(1,8)> in Erng( <group> ), <1(1,7)> in Erng( <group> ), <1(1,6)> in Erng( <group> ), <1(1,5)> in Erng( <group> ), <1(1,4)> in Erng( <group> ), <1(1,3)> in Erng( <group> ), <1(1,2)> in Erng( <group> ), <1(1,1)> in Erng( <group> ) ]"
      ]
     },
     "execution_count": 92,
     "metadata": {
      "text/plain": ""
     },
     "output_type": "execute_result"
    }
   ],
   "source": [
    "gens_erng := GeneratorsOfRing( erng );\n",
    "list_modezero_elmts := List( Reversed( [ 1 .. NumberOfZeroModeClasses( ccss_grp ) ] ), i -> gens_erng[ 0, i ] );\n",
    "list_modeone_elmts := List( Reversed( [ 1 .. NumberOfNonzeroModeClasses( ccss_grp ) ] ), i -> gens_erng[ 1, i ] );"
   ]
  },
  {
   "cell_type": "code",
   "execution_count": 93,
   "id": "565cf0ba",
   "metadata": {},
   "outputs": [
    {
     "name": "stdout",
     "output_type": "stream",
     "text": [
      "Erng( <group> ) element:\n",
      "1\t(0,5)\tSO(2) x A4\n",
      "Erng( <group> ) element:\n",
      "1\t(0,4)\tSO(2) x V4\n",
      "Erng( <group> ) element:\n",
      "1\t(0,3)\tSO(2) x Z3\n",
      "Erng( <group> ) element:\n",
      "1\t(0,2)\tSO(2) x Z2\n",
      "Erng( <group> ) element:\n",
      "1\t(0,1)\tSO(2) x Z1\n"
     ]
    }
   ],
   "source": [
    "for e in list_modezero_elmts do\n",
    "    Print( e );\n",
    "od;"
   ]
  },
  {
   "cell_type": "code",
   "execution_count": 94,
   "id": "fdf70363",
   "metadata": {},
   "outputs": [
    {
     "name": "stdout",
     "output_type": "stream",
     "text": [
      "Erng( <group> ) element:\n",
      "1\t(1,11)\tZ_1 x A4\n",
      "Erng( <group> ) element:\n",
      "1\t(1,10)\tZ_3|Z_1 x V4|A4\n",
      "Erng( <group> ) element:\n",
      "1\t(1,9)\tZ_3|Z_1 x V4|A4\n",
      "Erng( <group> ) element:\n",
      "1\t(1,8)\tZ_1 x V4\n",
      "Erng( <group> ) element:\n",
      "1\t(1,7)\tZ_2|Z_1 x Z2|V4\n",
      "Erng( <group> ) element:\n",
      "1\t(1,6)\tZ_1 x Z3\n",
      "Erng( <group> ) element:\n",
      "1\t(1,5)\tZ_3|Z_1 x Z1|Z3\n",
      "Erng( <group> ) element:\n",
      "1\t(1,4)\tZ_3|Z_1 x Z1|Z3\n",
      "Erng( <group> ) element:\n",
      "1\t(1,3)\tZ_1 x Z2\n",
      "Erng( <group> ) element:\n",
      "1\t(1,2)\tZ_2|Z_1 x Z1|Z2\n",
      "Erng( <group> ) element:\n",
      "1\t(1,1)\tZ_1 x Z1\n"
     ]
    }
   ],
   "source": [
    "for e in list_modeone_elmts do\n",
    "    Print( e );\n",
    "od;"
   ]
  },
  {
   "cell_type": "code",
   "execution_count": 130,
   "id": "c5f04cfb",
   "metadata": {},
   "outputs": [
    {
     "name": "stdout",
     "output_type": "stream",
     "text": [
      "\t\t<(0A4)>\t<(0V4)>\t<(0Z3)>\t<(0Z2)>\t<(0Z1)>\t\n",
      "-------------\n",
      "<(0A4)>\t<(0A4)>\t<(0V4)>\t<(0Z3)>\t<(0Z2)>\t<(0Z1)>\t\n",
      "<(0V4)>\t<(0V4)>\t<3(0V4)>\t<(0Z1)>\t<3(0Z2)>\t<3(0Z1)>\t\n",
      "<(0Z3)>\t<(0Z3)>\t<(0Z1)>\t<(0Z1)+1(0Z3)>\t<2(0Z1)>\t<4(0Z1)>\t\n",
      "<(0Z2)>\t<(0Z2)>\t<3(0Z2)>\t<2(0Z1)>\t<2(0Z1)+2(0Z2)>\t<6(0Z1)>\t\n",
      "<(0Z1)>\t<(0Z1)>\t<3(0Z1)>\t<4(0Z1)>\t<6(0Z1)>\t<12(0Z1)>\t\n"
     ]
    }
   ],
   "source": [
    "mul_tbl1 := \"\";;\n",
    "Append( mul_tbl1, \"\\t\\t\" );;\n",
    "for e2 in list_modezero_elmts do\n",
    "    Append( mul_tbl1, String( e2 ) );;\n",
    "    Append( mul_tbl1, \"\\t\" );;\n",
    "od;\n",
    "Append( mul_tbl1, \"\\n-------------\\n\" );;\n",
    "for e1 in list_modezero_elmts do\n",
    "    Append( mul_tbl1, String( e1 ) );;\n",
    "    Append( mul_tbl1, \"\\t\" );;\n",
    "    for e2 in list_modezero_elmts do\n",
    "        Append( mul_tbl1, String( e1*e2 ) );;\n",
    "        Append( mul_tbl1, \"\\t\" );;\n",
    "    od;\n",
    "    Append( mul_tbl1, \"\\n\" );;\n",
    "od;\n",
    "\n",
    "mul_tbl1 := ReplacedString( mul_tbl1, \"<1(\", \"<(\" );;\n",
    "mul_tbl1 := ReplacedString( mul_tbl1, \"(0,5)\", \"(0A4)\" );;\n",
    "mul_tbl1 := ReplacedString( mul_tbl1, \"(0,4)\", \"(0V4)\" );;\n",
    "mul_tbl1 := ReplacedString( mul_tbl1, \"(0,3)\", \"(0Z3)\" );;\n",
    "mul_tbl1 := ReplacedString( mul_tbl1, \"(0,2)\", \"(0Z2)\" );;\n",
    "mul_tbl1 := ReplacedString( mul_tbl1, \"(0,1)\", \"(0Z1)\" );;\n",
    "\n",
    "Print( mul_tbl1 );"
   ]
  },
  {
   "cell_type": "code",
   "execution_count": 57,
   "id": "c9f006de",
   "metadata": {},
   "outputs": [
    {
     "name": "stdout",
     "output_type": "stream",
     "text": [
      "\t\t< (0Q8)  >\t< (0Z4^1)>\t< (0Z4^2)>\t< (0Z4^3)>\t< (0Z2)  >\t< (0Z1)  >\t\n",
      "-------------\n",
      "< (1Q8)   >\t< (1Q8)   >\t< (1Z4^1) >\t< (1Z4^2) >\t< (1Z4^3) >\t< (1Z2)>\t< (1Z1)>\t\n",
      "< (1Q8^1-)>\t< (1Q8^1-)>\t< (1Z4^1) >\t< (1Z4^2-)>\t< (1Z4^3-)>\t< (1Z2)>\t< (1Z1)>\t\n",
      "< (1Q8^3-)>\t< (1Q8^3-)>\t< (1Z4^1-)>\t< (1Z4^2) >\t< (1Z4^3-)>\t< (1Z2)>\t< (1Z1)>\t\n",
      "< (1Q8^2-)>\t< (1Q8^2-)>\t< (1Z4^1-)>\t< (1Z4^2-)>\t< (1Z4^3) >\t< (1Z2)>\t< (1Z1)>\t\n",
      "< (1Z4^1) >\t< (1Z4^1) >\t<2(1Z4^1) >\t< (1Z2)>\t< (1Z2)>\t<2(1Z2)>\t<2(1Z1)>\t\n",
      "< (1Z4^1-)>\t< (1Z4^1-)>\t<2(1Z4^1-)>\t< (1Z2)>\t< (1Z2)>\t<2(1Z2)>\t<2(1Z1)>\t\n",
      "< (1Z4^2) >\t< (1Z4^2) >\t< (1Z2)>\t<2(1Z4^2) >\t< (1Z2)>\t<2(1Z2)>\t<2(1Z1)>\t\n",
      "< (1Z4^2-)>\t< (1Z4^2-)>\t< (1Z2)>\t<2(1Z4^2-)>\t< (1Z2)>\t<2(1Z2)>\t<2(1Z1)>\t\n",
      "< (1Z4^3) >\t< (1Z4^3) >\t< (1Z2)>\t< (1Z2)>\t<2(1Z4^3) >\t<2(1Z2)>\t<2(1Z1)>\t\n",
      "< (1Z4^3-)>\t< (1Z4^3-)>\t< (1Z2)>\t< (1Z2)>\t<2(1Z4^3-)>\t<2(1Z2)>\t<2(1Z1)>\t\n",
      "< (1Z4^1+)>\t< (1Z4^1+)>\t<2(1Z4^1+)>\t< (1Z2^-)>\t< (1Z2^-)>\t<2(1Z2^-)>\t<2(1Z1)>\t\n",
      "< (1Z4^2+)>\t< (1Z4^2+)>\t< (1Z2^-)>\t<2(1Z4^2+)>\t< (1Z2^-)>\t<2(1Z2^-)>\t<2(1Z1)>\t\n",
      "< (1Z4^3+)>\t< (1Z4^3+)>\t< (1Z2^-)>\t< (1Z2^-)>\t<2(1Z4^3+)>\t<2(1Z2^-)>\t<2(1Z1)>\t\n",
      "< (1Z2)>\t< (1Z2)>\t<2(1Z2)>\t<2(1Z2)>\t<2(1Z2)>\t<4(1Z2)>\t<4(1Z1)>\t\n",
      "< (1Z2^-)>\t< (1Z2^-)>\t<2(1Z2^-)>\t<2(1Z2^-)>\t<2(1Z2^-)>\t<4(1Z2^-)>\t<4(1Z1)>\t\n",
      "< (1Z1)>\t< (1Z1)>\t<2(1Z1)>\t<2(1Z1)>\t<2(1Z1)>\t<4(1Z1)>\t<8(1Z1)>\t\n"
     ]
    }
   ],
   "source": [
    "mul_tbl2 := \"\";;\n",
    "Append( mul_tbl2, \"\\t\\t\" );\n",
    "for e2 in list_modezero_elmts do\n",
    "    Append( mul_tbl2, String( e2 ) );;\n",
    "    Append( mul_tbl2, \"\\t\" );;\n",
    "od;\n",
    "Append( mul_tbl2, \"\\n-------------\\n\" );;\n",
    "for e1 in list_modeone_elmts do\n",
    "    Append( mul_tbl2, String( e1 ) );;\n",
    "    Append( mul_tbl2, \"\\t\" );;\n",
    "    for e2 in list_modezero_elmts do\n",
    "        Append( mul_tbl2, String( e1*e2 ) );;\n",
    "        Append( mul_tbl2, \"\\t\" );;\n",
    "    od;\n",
    "    Append( mul_tbl2, \"\\n\" );;\n",
    "od;\n",
    "\n",
    "mul_tbl2 := ReplacedString( mul_tbl2, \"<1(\", \"< (\" );;\n",
    "mul_tbl2 := ReplacedString( mul_tbl2, \"(0,6)\", \"(0Q8)  \" );;\n",
    "mul_tbl2 := ReplacedString( mul_tbl2, \"(0,5)\", \"(0Z4^1)\" );;\n",
    "mul_tbl2 := ReplacedString( mul_tbl2, \"(0,4)\", \"(0Z4^2)\" );;\n",
    "mul_tbl2 := ReplacedString( mul_tbl2, \"(0,3)\", \"(0Z4^3)\" );;\n",
    "mul_tbl2 := ReplacedString( mul_tbl2, \"(0,2)\", \"(0Z2)  \" );;\n",
    "mul_tbl2 := ReplacedString( mul_tbl2, \"(0,1)\", \"(0Z1)  \" );;\n",
    "\n",
    "mul_tbl2 := ReplacedString( mul_tbl2, \"(1,16)\", \"(1Q8)   \" );;\n",
    "mul_tbl2 := ReplacedString( mul_tbl2, \"(1,15)\", \"(1Q8^1-)\" );;\n",
    "mul_tbl2 := ReplacedString( mul_tbl2, \"(1,14)\", \"(1Q8^3-)\" );;\n",
    "mul_tbl2 := ReplacedString( mul_tbl2, \"(1,13)\", \"(1Q8^2-)\" );;\n",
    "mul_tbl2 := ReplacedString( mul_tbl2, \"(1,12)\", \"(1Z4^1) \" );;\n",
    "mul_tbl2 := ReplacedString( mul_tbl2, \"(1,11)\", \"(1Z4^1-)\" );;\n",
    "mul_tbl2 := ReplacedString( mul_tbl2, \"(1,10)\", \"(1Z4^2) \" );;\n",
    "mul_tbl2 := ReplacedString( mul_tbl2, \"(1,9)\", \"(1Z4^2-)\" );;\n",
    "mul_tbl2 := ReplacedString( mul_tbl2, \"(1,8)\", \"(1Z4^3) \" );;\n",
    "mul_tbl2 := ReplacedString( mul_tbl2, \"(1,7)\", \"(1Z4^3-)\" );;\n",
    "mul_tbl2 := ReplacedString( mul_tbl2, \"(1,6)\", \"(1Z4^1+)\" );;\n",
    "mul_tbl2 := ReplacedString( mul_tbl2, \"(1,5)\", \"(1Z4^2+)\" );;\n",
    "mul_tbl2 := ReplacedString( mul_tbl2, \"(1,4)\", \"(1Z4^3+)\" );;\n",
    "mul_tbl2 := ReplacedString( mul_tbl2, \"(1,3)\", \"(1Z2)\" );;\n",
    "mul_tbl2 := ReplacedString( mul_tbl2, \"(1,2)\", \"(1Z2^-)\" );;\n",
    "mul_tbl2 := ReplacedString( mul_tbl2, \"(1,1)\", \"(1Z1)\" );;\n",
    "\n",
    "Print( mul_tbl2 );"
   ]
  }
 ],
 "metadata": {
  "kernelspec": {
   "display_name": "GAP 4",
   "language": "gap",
   "name": "gap-4"
  },
  "language_info": {
   "codemirror_mode": "gap",
   "file_extension": ".g",
   "mimetype": "text/x-gap",
   "name": "GAP 4",
   "nbconvert_exporter": "",
   "pygments_lexer": "gap",
   "version": "4.11.1"
  }
 },
 "nbformat": 4,
 "nbformat_minor": 5
}
