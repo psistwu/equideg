{
 "cells": [
  {
   "cell_type": "code",
   "execution_count": null,
   "id": "b50b7f45",
   "metadata": {},
   "outputs": [
    {
     "data": {
      "text/plain": [
       "true"
      ]
     },
     "execution_count": 2,
     "metadata": {
      "text/plain": ""
     },
     "output_type": "execute_result"
    }
   ],
   "source": [
    "LoadPackage(\"equideg\");"
   ]
  },
  {
   "cell_type": "code",
   "execution_count": 102,
   "id": "bbd663ad",
   "metadata": {},
   "outputs": [],
   "source": [
    "gamma := SymmetricGroup( 4 );;\n",
    "ccss_gamma := ConjugacyClassesSubgroups( gamma );;\n",
    "SetCCSsAbbrv( gamma, [ \"Z1\", \"Z2\", \"D1\", \"Z3\", \"V4\", \"D2\", \"Z4\", \"D3\", \"D4\", \"A4\", \"S4\" ] );;\n",
    "\n",
    "so2 := SpecialOrthogonalGroupOverReal( 2 );;\n",
    "\n",
    "g := DirectProduct( so2, gamma );;\n",
    "ccss_g := ConjugacyClassesSubgroups( g );;"
   ]
  },
  {
   "cell_type": "code",
   "execution_count": 103,
   "id": "ca4aebf9",
   "metadata": {},
   "outputs": [
    {
     "data": {
      "text/plain": [
       "<object>"
      ]
     },
     "execution_count": 103,
     "metadata": {
      "text/plain": ""
     },
     "output_type": "execute_result"
    }
   ],
   "source": [
    "irrs := Irr( g );"
   ]
  },
  {
   "cell_type": "code",
   "execution_count": 106,
   "id": "58d3a4ab",
   "metadata": {
    "scrolled": true
   },
   "outputs": [
    {
     "name": "stdout",
     "output_type": "stream",
     "text": [
      "Erng( <group> ) element:\n",
      "1\t(1,25)\tZ_1 x S4\n",
      "\n"
     ]
    }
   ],
   "source": [
    "chi := irrs[1,5];;\n",
    "tdeg := TwistedBasicDegree(chi);;\n",
    "Display(tdeg);"
   ]
  }
 ],
 "metadata": {
  "kernelspec": {
   "display_name": "GAP 4",
   "language": "gap",
   "name": "gap-4"
  },
  "language_info": {
   "codemirror_mode": "gap",
   "file_extension": ".g",
   "mimetype": "text/x-gap",
   "name": "GAP 4",
   "nbconvert_exporter": "",
   "pygments_lexer": "gap",
   "version": "4.11.1"
  }
 },
 "nbformat": 4,
 "nbformat_minor": 5
}
